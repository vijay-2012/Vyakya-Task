{
  "nbformat": 4,
  "nbformat_minor": 0,
  "metadata": {
    "colab": {
      "name": "Task1Vyakya",
      "provenance": []
    },
    "kernelspec": {
      "name": "python3",
      "display_name": "Python 3"
    },
    "language_info": {
      "name": "python"
    }
  },
  "cells": [
    {
      "cell_type": "code",
      "metadata": {
        "id": "h48j4xnk9NIA"
      },
      "source": [
        "import pandas as pd\n",
        "import re"
      ],
      "execution_count": 1,
      "outputs": []
    },
    {
      "cell_type": "code",
      "metadata": {
        "id": "rx62r4Su9aP2"
      },
      "source": [
        "jsonList = pd.read_json('/content/task_input_list.json')"
      ],
      "execution_count": 2,
      "outputs": []
    },
    {
      "cell_type": "code",
      "metadata": {
        "id": "99MRjfzX9gH7"
      },
      "source": [
        " df = jsonList[0]"
      ],
      "execution_count": 3,
      "outputs": []
    },
    {
      "cell_type": "code",
      "metadata": {
        "id": "KQuey5HD9yTm"
      },
      "source": [
        "for i in range(len(jsonList[0])):\n",
        "  if jsonList[0][i] == 'Deposits and other additions':\n",
        "    DepositIndex = i+1\n",
        "  if jsonList[0][i] == 'Other subtractions':\n",
        "    withdrawalIndex = i+1\n",
        "  if jsonList[0][i]=='Total other subtractions':\n",
        "    withdrawalend= i"
      ],
      "execution_count": 4,
      "outputs": []
    },
    {
      "cell_type": "code",
      "metadata": {
        "colab": {
          "base_uri": "https://localhost:8080/"
        },
        "id": "T4qkHH6yE_Cf",
        "outputId": "7522fe40-e043-4725-e6d4-a5a89f4ef4fe"
      },
      "source": [
        "columns = [jsonList[0][i] for i in range(DepositIndex,DepositIndex+3)]\n",
        "columns"
      ],
      "execution_count": 5,
      "outputs": [
        {
          "output_type": "execute_result",
          "data": {
            "text/plain": [
              "['Date', 'Description', 'Amount']"
            ]
          },
          "metadata": {},
          "execution_count": 5
        }
      ]
    },
    {
      "cell_type": "code",
      "metadata": {
        "id": "WgXH_PGORuFW"
      },
      "source": [
        "def transaction(df, start, end):\n",
        "\n",
        "  import re\n",
        "  def check_date(date_):\n",
        "    \n",
        "    if re.match('\\d{2}(?P<sep>[-/])\\d{2}(?P=sep)\\d{2}',date_):\n",
        "      return True\n",
        "    else:\n",
        "      return False\n",
        "\n",
        "  def check_amount(amt):\n",
        "  \n",
        "    try:\n",
        "      if ',' in amt:\n",
        "        idx = amt.index(',')\n",
        "        amt = amt[0:idx] + amt[(idx+1):]   \n",
        "        \n",
        "      if float(amt):\n",
        "        return float(amt)\n",
        "      \n",
        "    except:\n",
        "      return False\n",
        "\n",
        "  def check_description(desc):\n",
        "    \n",
        "    if not check_amount(desc) and not check_date(desc):\n",
        "      return True\n",
        "\n",
        "  def parse_data(df, start, end):\n",
        "    date= []\n",
        "    day=[]\n",
        "    month=[]\n",
        "    year=[]\n",
        "    amountList =[]\n",
        "    desc = []\n",
        "    for i in range(start,end):\n",
        " \n",
        "      if check_date(df[i]):\n",
        "\n",
        "        date.append(df[i])\n",
        "        d = df[i].split('/')\n",
        "        day.append(d[1])\n",
        "        month.append(d[0])\n",
        "        year.append(int(d[2])+2000)\n",
        "      amount = check_amount(df[i])\n",
        "\n",
        "      if amount:\n",
        "        \n",
        "        amountList.append(amount)\n",
        "\n",
        "      if check_description(df[i]):\n",
        "       \n",
        "        if check_description(df[i-1]):\n",
        "          desc[-1] += ' ' + df[i]\n",
        "        else:\n",
        "          desc.append(df[i])\n",
        "\n",
        "    res = pd.DataFrame(columns=['DATE','DESCRIPTION','AMOUNT','DAY','MONTH','YEAR'])\n",
        "\n",
        "    res['DATE'] = date\n",
        "    res['DESCRIPTION'] = desc\n",
        "    res['AMOUNT'] = amountList\n",
        "    res['DAY'] = day\n",
        "    res['MONTH'] = month\n",
        "    res['YEAR'] = year\n",
        "\n",
        "    \n",
        "   \n",
        "    return res\n",
        "  result = parse_data(df, start, end)\n",
        "  return result\n"
      ],
      "execution_count": 6,
      "outputs": []
    },
    {
      "cell_type": "code",
      "metadata": {
        "id": "DGI-1tkYV9YX"
      },
      "source": [
        "deposits = transaction(df, DepositIndex + 3, withdrawalIndex - 4)"
      ],
      "execution_count": 7,
      "outputs": []
    },
    {
      "cell_type": "code",
      "metadata": {
        "colab": {
          "base_uri": "https://localhost:8080/"
        },
        "id": "_YU_UTX7WORf",
        "outputId": "503c7760-857c-428b-c33f-cc60d44a1cc5"
      },
      "source": [
        "print(deposits)"
      ],
      "execution_count": 8,
      "outputs": [
        {
          "output_type": "stream",
          "name": "stdout",
          "text": [
            "       DATE                                    DESCRIPTION  ...  MONTH  YEAR\n",
            "0  12/03/18                                 Counter Credit  ...     12  2018\n",
            "1  12/10/18                                 Counter Credit  ...     12  2018\n",
            "2  12/21/18  PAYPAL DES:TRANSFER ID:1004561753452 INDN: CO  ...     12  2018\n",
            "3  12/24/18                                 Counter Credit  ...     12  2018\n",
            "\n",
            "[4 rows x 6 columns]\n"
          ]
        }
      ]
    },
    {
      "cell_type": "code",
      "metadata": {
        "id": "hfamuzjfZyk0"
      },
      "source": [
        "withdrawals = transaction(df, withdrawalIndex + 3, withdrawalend)"
      ],
      "execution_count": 9,
      "outputs": []
    },
    {
      "cell_type": "code",
      "metadata": {
        "colab": {
          "base_uri": "https://localhost:8080/",
          "height": 326
        },
        "id": "mw2JYe1rZ9-0",
        "outputId": "ee9539af-36e3-4112-a60b-55ec344f19d9"
      },
      "source": [
        "withdrawals"
      ],
      "execution_count": 10,
      "outputs": [
        {
          "output_type": "execute_result",
          "data": {
            "text/html": [
              "<div>\n",
              "<style scoped>\n",
              "    .dataframe tbody tr th:only-of-type {\n",
              "        vertical-align: middle;\n",
              "    }\n",
              "\n",
              "    .dataframe tbody tr th {\n",
              "        vertical-align: top;\n",
              "    }\n",
              "\n",
              "    .dataframe thead th {\n",
              "        text-align: right;\n",
              "    }\n",
              "</style>\n",
              "<table border=\"1\" class=\"dataframe\">\n",
              "  <thead>\n",
              "    <tr style=\"text-align: right;\">\n",
              "      <th></th>\n",
              "      <th>DATE</th>\n",
              "      <th>DESCRIPTION</th>\n",
              "      <th>AMOUNT</th>\n",
              "      <th>DAY</th>\n",
              "      <th>MONTH</th>\n",
              "      <th>YEAR</th>\n",
              "    </tr>\n",
              "  </thead>\n",
              "  <tbody>\n",
              "    <tr>\n",
              "      <th>0</th>\n",
              "      <td>11/30/18</td>\n",
              "      <td>Automatic Transfer to SAV 2084 Confirmation# 1...</td>\n",
              "      <td>-25.00</td>\n",
              "      <td>30</td>\n",
              "      <td>11</td>\n",
              "      <td>2018</td>\n",
              "    </tr>\n",
              "    <tr>\n",
              "      <th>1</th>\n",
              "      <td>12/03/18</td>\n",
              "      <td>Online Banking payment to CRD 8610 Confirmatio...</td>\n",
              "      <td>-200.00</td>\n",
              "      <td>03</td>\n",
              "      <td>12</td>\n",
              "      <td>2018</td>\n",
              "    </tr>\n",
              "    <tr>\n",
              "      <th>2</th>\n",
              "      <td>12/04/18</td>\n",
              "      <td>Customer Withdrawal Image</td>\n",
              "      <td>-12000.00</td>\n",
              "      <td>04</td>\n",
              "      <td>12</td>\n",
              "      <td>2018</td>\n",
              "    </tr>\n",
              "    <tr>\n",
              "      <th>3</th>\n",
              "      <td>12/07/18</td>\n",
              "      <td>TRANSFER</td>\n",
              "      <td>-3695.00</td>\n",
              "      <td>07</td>\n",
              "      <td>12</td>\n",
              "      <td>2018</td>\n",
              "    </tr>\n",
              "    <tr>\n",
              "      <th>4</th>\n",
              "      <td>12/11/18</td>\n",
              "      <td>CARFAX DES:BT1210 ID:000000071591462 INDN: CO ...</td>\n",
              "      <td>-399.98</td>\n",
              "      <td>11</td>\n",
              "      <td>12</td>\n",
              "      <td>2018</td>\n",
              "    </tr>\n",
              "    <tr>\n",
              "      <th>5</th>\n",
              "      <td>12/13/18</td>\n",
              "      <td>TRANSFER  :J Cars Confirmation# 0472167145</td>\n",
              "      <td>-3955.00</td>\n",
              "      <td>13</td>\n",
              "      <td>12</td>\n",
              "      <td>2018</td>\n",
              "    </tr>\n",
              "    <tr>\n",
              "      <th>6</th>\n",
              "      <td>12/19/18</td>\n",
              "      <td>TRANSFER  :J Cars Confirmation# 0423610629</td>\n",
              "      <td>-13990.00</td>\n",
              "      <td>19</td>\n",
              "      <td>12</td>\n",
              "      <td>2018</td>\n",
              "    </tr>\n",
              "    <tr>\n",
              "      <th>7</th>\n",
              "      <td>12/20/18</td>\n",
              "      <td>SOUTHWEST GAS DES:WEB ID:1410023972050 INDN:JO...</td>\n",
              "      <td>-28.25</td>\n",
              "      <td>20</td>\n",
              "      <td>12</td>\n",
              "      <td>2018</td>\n",
              "    </tr>\n",
              "    <tr>\n",
              "      <th>8</th>\n",
              "      <td>12/21/18</td>\n",
              "      <td>TRANSFER  :J Cars Confirmation# 1642822709</td>\n",
              "      <td>-16630.00</td>\n",
              "      <td>21</td>\n",
              "      <td>12</td>\n",
              "      <td>2018</td>\n",
              "    </tr>\n",
              "  </tbody>\n",
              "</table>\n",
              "</div>"
            ],
            "text/plain": [
              "       DATE                                        DESCRIPTION  ...  MONTH  YEAR\n",
              "0  11/30/18  Automatic Transfer to SAV 2084 Confirmation# 1...  ...     11  2018\n",
              "1  12/03/18  Online Banking payment to CRD 8610 Confirmatio...  ...     12  2018\n",
              "2  12/04/18                          Customer Withdrawal Image  ...     12  2018\n",
              "3  12/07/18                                          TRANSFER   ...     12  2018\n",
              "4  12/11/18  CARFAX DES:BT1210 ID:000000071591462 INDN: CO ...  ...     12  2018\n",
              "5  12/13/18         TRANSFER  :J Cars Confirmation# 0472167145  ...     12  2018\n",
              "6  12/19/18         TRANSFER  :J Cars Confirmation# 0423610629  ...     12  2018\n",
              "7  12/20/18  SOUTHWEST GAS DES:WEB ID:1410023972050 INDN:JO...  ...     12  2018\n",
              "8  12/21/18         TRANSFER  :J Cars Confirmation# 1642822709  ...     12  2018\n",
              "\n",
              "[9 rows x 6 columns]"
            ]
          },
          "metadata": {},
          "execution_count": 10
        }
      ]
    },
    {
      "cell_type": "code",
      "metadata": {
        "id": "V9SrExiaaabf"
      },
      "source": [
        "def insights(df, deposits, withdrawals):\n",
        "  def check_website(text):\n",
        "    pattern = r'[0-9a-z]{0,61}\\.[a-z]{2,4}$'\n",
        "    if re.match(pattern, text):\n",
        "      return True\n",
        "    else:\n",
        "      return False\n",
        "\n",
        "  def check_email(email):\n",
        "  \n",
        "    pattern = r'\\b[A-Za-z0-9._%+-]+@[A-Za-z0-9.-]+\\.[A-Z|a-z]{2,}\\b'\n",
        "    if re.match(pattern, email):\n",
        "      return True\n",
        "    else:\n",
        "      return False\n",
        "\n",
        "  def check_phno(number):\n",
        "    pattern = r\"^[1]*[-]*[(]*[0-9]{3}[)]*[-]*[ ]*[0-9]{3}[-]*[0-9]{4}\"\n",
        "    if re.match(pattern, number):\n",
        "      return True\n",
        "    else:\n",
        "      return False\n",
        "\n",
        "  def parse_data(df, deposits, withdrawals):\n",
        "    phone_number=[]\n",
        "    emailList = []\n",
        "    website = []\n",
        "\n",
        "    for i in range(len(df)):\n",
        "      if \": \" in df[i]:\n",
        "        ph = df[i].split(\": \")[1]\n",
        "        \n",
        "        if check_phno(ph):\n",
        "          phone_number.append(ph)\n",
        "\n",
        "      if check_email(df[i]):\n",
        "        emailList.append(df[i])\n",
        "      if check_website(df[i]):\n",
        "        website.append(df[i]) \n",
        "\n",
        "\n",
        "    \n",
        "\n",
        "    phone = ','.join(phone_number) if phone_number else 'NA'\n",
        "    emailIds = ','.join(emailList) if emailList else 'NA'\n",
        "    websites = ','.join(website) if website else 'NA'\n",
        "    maxAmount = max(map(max,[deposits['AMOUNT'],withdrawals['AMOUNT']]))\n",
        "    minAmount = min(map(min,[deposits['AMOUNT'],withdrawals['AMOUNT']]))\n",
        "\n",
        "    res = pd.DataFrame(columns=['Key',\"Value\"])\n",
        "    res['Key'] = ['website', 'email', 'phone_numbers', 'max amount', 'min amount']\n",
        "    res['Value'] = [websites, emailIds, phone, maxAmount, minAmount]\n",
        "    \n",
        "    return res\n",
        "\n",
        "  result = parse_data(df, deposits, withdrawals)\n",
        "  return result\n",
        "\n"
      ],
      "execution_count": 11,
      "outputs": []
    },
    {
      "cell_type": "code",
      "metadata": {
        "id": "oykyUViocnVV"
      },
      "source": [
        "insights = insights(df, deposits, withdrawals)"
      ],
      "execution_count": 12,
      "outputs": []
    },
    {
      "cell_type": "code",
      "metadata": {
        "colab": {
          "base_uri": "https://localhost:8080/",
          "height": 203
        },
        "id": "V7vgSCM3cxB2",
        "outputId": "dcf4ef9f-8f87-4bbf-a586-79496dfba1b5"
      },
      "source": [
        "insights"
      ],
      "execution_count": 13,
      "outputs": [
        {
          "output_type": "execute_result",
          "data": {
            "text/html": [
              "<div>\n",
              "<style scoped>\n",
              "    .dataframe tbody tr th:only-of-type {\n",
              "        vertical-align: middle;\n",
              "    }\n",
              "\n",
              "    .dataframe tbody tr th {\n",
              "        vertical-align: top;\n",
              "    }\n",
              "\n",
              "    .dataframe thead th {\n",
              "        text-align: right;\n",
              "    }\n",
              "</style>\n",
              "<table border=\"1\" class=\"dataframe\">\n",
              "  <thead>\n",
              "    <tr style=\"text-align: right;\">\n",
              "      <th></th>\n",
              "      <th>Key</th>\n",
              "      <th>Value</th>\n",
              "    </tr>\n",
              "  </thead>\n",
              "  <tbody>\n",
              "    <tr>\n",
              "      <th>0</th>\n",
              "      <td>website</td>\n",
              "      <td>bankingservices.com</td>\n",
              "    </tr>\n",
              "    <tr>\n",
              "      <th>1</th>\n",
              "      <td>email</td>\n",
              "      <td>NA</td>\n",
              "    </tr>\n",
              "    <tr>\n",
              "      <th>2</th>\n",
              "      <td>phone_numbers</td>\n",
              "      <td>(555) 555-1234,(800) 555-1234,1-800-555-1234</td>\n",
              "    </tr>\n",
              "    <tr>\n",
              "      <th>3</th>\n",
              "      <td>max amount</td>\n",
              "      <td>9970</td>\n",
              "    </tr>\n",
              "    <tr>\n",
              "      <th>4</th>\n",
              "      <td>min amount</td>\n",
              "      <td>-16630</td>\n",
              "    </tr>\n",
              "  </tbody>\n",
              "</table>\n",
              "</div>"
            ],
            "text/plain": [
              "             Key                                         Value\n",
              "0        website                           bankingservices.com\n",
              "1          email                                            NA\n",
              "2  phone_numbers  (555) 555-1234,(800) 555-1234,1-800-555-1234\n",
              "3     max amount                                          9970\n",
              "4     min amount                                        -16630"
            ]
          },
          "metadata": {},
          "execution_count": 13
        }
      ]
    },
    {
      "cell_type": "code",
      "metadata": {
        "id": "9yfIlvaRcyDD"
      },
      "source": [
        "with pd.ExcelWriter('task_2_output.xlsx') as writer:  \n",
        "    deposits.to_excel(writer, sheet_name='DEPOSITS', index=False)\n",
        "    withdrawals.to_excel(writer, sheet_name='WITHDRAWALS', index=False)\n",
        "    insights.to_excel(writer, sheet_name='INSIGHTS', index=False)"
      ],
      "execution_count": 14,
      "outputs": []
    },
    {
      "cell_type": "code",
      "metadata": {
        "id": "quKJa97PfX2G"
      },
      "source": [
        ""
      ],
      "execution_count": 14,
      "outputs": []
    }
  ]
}